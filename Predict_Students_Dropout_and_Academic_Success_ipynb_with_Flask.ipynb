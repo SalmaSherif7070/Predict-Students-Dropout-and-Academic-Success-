{
  "cells": [
    {
      "cell_type": "markdown",
      "metadata": {
        "id": "view-in-github",
        "colab_type": "text"
      },
      "source": [
        "<a href=\"https://colab.research.google.com/github/SalmaSherif7070/Predict-Students-Dropout-and-Academic-Success-/blob/main/Predict_Students_Dropout_and_Academic_Success_ipynb_with_Flask.ipynb\" target=\"_parent\"><img src=\"https://colab.research.google.com/assets/colab-badge.svg\" alt=\"Open In Colab\"/></a>"
      ]
    },
    {
      "cell_type": "markdown",
      "metadata": {
        "id": "egz84rxRE8YX"
      },
      "source": [
        "#importing"
      ]
    },
    {
      "cell_type": "code",
      "execution_count": 1,
      "metadata": {
        "id": "zwlxlibJHSol"
      },
      "outputs": [],
      "source": [
        "import re\n",
        "import os"
      ]
    },
    {
      "cell_type": "code",
      "execution_count": 2,
      "metadata": {
        "colab": {
          "base_uri": "https://localhost:8080/"
        },
        "collapsed": true,
        "id": "vftnfKLXU6ep",
        "outputId": "3dd8cbaa-f5fc-4cd7-b84f-d9a9e281eb56"
      },
      "outputs": [
        {
          "output_type": "stream",
          "name": "stdout",
          "text": [
            "Requirement already satisfied: flask in /usr/local/lib/python3.10/dist-packages (2.2.5)\n",
            "Collecting pyngrok\n",
            "  Downloading pyngrok-7.2.0-py3-none-any.whl.metadata (7.4 kB)\n",
            "Requirement already satisfied: Werkzeug>=2.2.2 in /usr/local/lib/python3.10/dist-packages (from flask) (3.0.4)\n",
            "Requirement already satisfied: Jinja2>=3.0 in /usr/local/lib/python3.10/dist-packages (from flask) (3.1.4)\n",
            "Requirement already satisfied: itsdangerous>=2.0 in /usr/local/lib/python3.10/dist-packages (from flask) (2.2.0)\n",
            "Requirement already satisfied: click>=8.0 in /usr/local/lib/python3.10/dist-packages (from flask) (8.1.7)\n",
            "Requirement already satisfied: PyYAML>=5.1 in /usr/local/lib/python3.10/dist-packages (from pyngrok) (6.0.2)\n",
            "Requirement already satisfied: MarkupSafe>=2.0 in /usr/local/lib/python3.10/dist-packages (from Jinja2>=3.0->flask) (2.1.5)\n",
            "Downloading pyngrok-7.2.0-py3-none-any.whl (22 kB)\n",
            "Installing collected packages: pyngrok\n",
            "Successfully installed pyngrok-7.2.0\n",
            "Collecting flask_ngrok\n",
            "  Downloading flask_ngrok-0.0.25-py3-none-any.whl.metadata (1.8 kB)\n",
            "Requirement already satisfied: Flask>=0.8 in /usr/local/lib/python3.10/dist-packages (from flask_ngrok) (2.2.5)\n",
            "Requirement already satisfied: requests in /usr/local/lib/python3.10/dist-packages (from flask_ngrok) (2.32.3)\n",
            "Requirement already satisfied: Werkzeug>=2.2.2 in /usr/local/lib/python3.10/dist-packages (from Flask>=0.8->flask_ngrok) (3.0.4)\n",
            "Requirement already satisfied: Jinja2>=3.0 in /usr/local/lib/python3.10/dist-packages (from Flask>=0.8->flask_ngrok) (3.1.4)\n",
            "Requirement already satisfied: itsdangerous>=2.0 in /usr/local/lib/python3.10/dist-packages (from Flask>=0.8->flask_ngrok) (2.2.0)\n",
            "Requirement already satisfied: click>=8.0 in /usr/local/lib/python3.10/dist-packages (from Flask>=0.8->flask_ngrok) (8.1.7)\n",
            "Requirement already satisfied: charset-normalizer<4,>=2 in /usr/local/lib/python3.10/dist-packages (from requests->flask_ngrok) (3.3.2)\n",
            "Requirement already satisfied: idna<4,>=2.5 in /usr/local/lib/python3.10/dist-packages (from requests->flask_ngrok) (3.10)\n",
            "Requirement already satisfied: urllib3<3,>=1.21.1 in /usr/local/lib/python3.10/dist-packages (from requests->flask_ngrok) (2.2.3)\n",
            "Requirement already satisfied: certifi>=2017.4.17 in /usr/local/lib/python3.10/dist-packages (from requests->flask_ngrok) (2024.8.30)\n",
            "Requirement already satisfied: MarkupSafe>=2.0 in /usr/local/lib/python3.10/dist-packages (from Jinja2>=3.0->Flask>=0.8->flask_ngrok) (2.1.5)\n",
            "Downloading flask_ngrok-0.0.25-py3-none-any.whl (3.1 kB)\n",
            "Installing collected packages: flask_ngrok\n",
            "Successfully installed flask_ngrok-0.0.25\n"
          ]
        }
      ],
      "source": [
        "!pip install flask pyngrok\n",
        "!pip install flask_ngrok"
      ]
    },
    {
      "cell_type": "code",
      "execution_count": 3,
      "metadata": {
        "id": "LKL57_YyT6_w"
      },
      "outputs": [],
      "source": [
        "import json\n",
        "import time\n",
        "import os\n",
        "import re"
      ]
    },
    {
      "cell_type": "markdown",
      "metadata": {
        "id": "bsxqdKK_GAdn"
      },
      "source": [
        "#Functions"
      ]
    },
    {
      "cell_type": "code",
      "execution_count": 20,
      "metadata": {
        "id": "aQZlIaH9HYQV"
      },
      "outputs": [],
      "source": [
        "def html():\n",
        "    import os\n",
        "\n",
        "    if not os.path.exists(\"templates\"):\n",
        "        os.makedirs(\"templates\")\n",
        "\n",
        "    html_content = \"\"\"\n",
        "    <!DOCTYPE html>\n",
        "    <html lang=\"en\">\n",
        "    <head>\n",
        "        <meta charset=\"UTF-8\">\n",
        "        <meta name=\"viewport\" content=\"width=device-width, initial-scale=1.0\">\n",
        "        <title>Prediction Input</title>\n",
        "        <style>\n",
        "            body {\n",
        "                font-family: Arial, sans-serif;\n",
        "                background-color: #f4f4f4;\n",
        "                margin: 0;\n",
        "            }\n",
        "            .container {\n",
        "                max-width: 800px;\n",
        "                margin: 0 auto;\n",
        "                padding: 20px;\n",
        "                background-color: #fff;\n",
        "                border-radius: 8px;\n",
        "                box-shadow: 0 0 10px rgba(0, 0, 0, 0.1);\n",
        "            }\n",
        "            h1 {\n",
        "                text-align: center;\n",
        "                color: #333;\n",
        "            }\n",
        "            label {\n",
        "                font-weight: bold;\n",
        "                margin-bottom: 5px;\n",
        "                display: block;\n",
        "                color: #555;\n",
        "            }\n",
        "            input[type=\"text\"],\n",
        "            select {\n",
        "                padding: 10px;\n",
        "                width: 100%;\n",
        "                font-size: 16px;\n",
        "                border: 1px solid #ccc;\n",
        "                border-radius: 5px;\n",
        "                margin-bottom: 15px; /* Consistent margin */\n",
        "                box-sizing: border-box; /* Ensure padding is included in width */\n",
        "            }\n",
        "            button {\n",
        "                padding: 10px 20px;\n",
        "                font-size: 16px;\n",
        "                background-color: #4CAF50;\n",
        "                color: white;\n",
        "                border: none;\n",
        "                border-radius: 5px;\n",
        "                cursor: pointer;\n",
        "                width: 100%; /* Full-width button */\n",
        "            }\n",
        "            button:hover {\n",
        "                background-color: #45a049;\n",
        "            }\n",
        "            .error-message {\n",
        "                color: red;\n",
        "                font-weight: bold;\n",
        "                margin-top: 10px;\n",
        "            }\n",
        "            .result {\n",
        "                margin-top: 20px;\n",
        "                font-size: 18px;\n",
        "                text-align: center;\n",
        "            }\n",
        "        </style>\n",
        "    </head>\n",
        "    <body>\n",
        "        <div class=\"container\">\n",
        "            <h1>Input Features for Prediction</h1>\n",
        "            <form method=\"post\">\n",
        "                <label for=\"marital_status\">Marital Status</label>\n",
        "                <input type=\"text\" name=\"marital_status\" required>\n",
        "\n",
        "                <label for=\"application_mode\">Application Mode</label>\n",
        "                <input type=\"text\" name=\"application_mode\" required>\n",
        "\n",
        "                <label for=\"application_order\">Application Order</label>\n",
        "                <input type=\"text\" name=\"application_order\" required> <!-- Changed to text -->\n",
        "\n",
        "                <label for=\"course\">Course</label>\n",
        "                <input type=\"text\" name=\"course\" required>\n",
        "\n",
        "                <label for=\"attendance\">Daytime/Evening Attendance</label>\n",
        "                <input type=\"text\" name=\"attendance\" required>\n",
        "\n",
        "                <label for=\"previous_qualification\">Previous Qualification</label>\n",
        "                <input type=\"text\" name=\"previous_qualification\" required>\n",
        "\n",
        "                <label for=\"mother_qualification\">Mother's Qualification</label>\n",
        "                <input type=\"text\" name=\"mother_qualification\" required>\n",
        "\n",
        "                <label for=\"father_qualification\">Father's Qualification</label>\n",
        "                <input type=\"text\" name=\"father_qualification\" required>\n",
        "\n",
        "                <label for=\"mother_occupation\">Mother's Occupation</label>\n",
        "                <input type=\"text\" name=\"mother_occupation\" required>\n",
        "\n",
        "                <label for=\"father_occupation\">Father's Occupation</label>\n",
        "                <input type=\"text\" name=\"father_occupation\" required>\n",
        "\n",
        "                <label for=\"displaced\">Displaced</label>\n",
        "                <input type=\"text\" name=\"displaced\" required>\n",
        "\n",
        "                <label for=\"debtor\">Debtor</label>\n",
        "                <input type=\"text\" name=\"debtor\" required>\n",
        "\n",
        "                <label for=\"tuition_fees\">Tuition Fees Up to Date</label>\n",
        "                <input type=\"text\" name=\"tuition_fees\" required>\n",
        "\n",
        "                <label for=\"gender\">Gender</label>\n",
        "                <input type=\"text\" name=\"gender\" required>\n",
        "\n",
        "                <label for=\"scholarship_holder\">Scholarship Holder</label>\n",
        "                <input type=\"text\" name=\"scholarship_holder\" required>\n",
        "\n",
        "                <label for=\"age_enrollment\">Age at Enrollment</label>\n",
        "                <input type=\"text\" name=\"age_enrollment\" required> <!-- Changed to text -->\n",
        "\n",
        "                <label for=\"gdp\">GDP</label>\n",
        "                <input type=\"text\" name=\"gdp\" required> <!-- Changed to text -->\n",
        "\n",
        "                <label for=\"iu_ratio\">I/U Ratio</label>\n",
        "                <input type=\"text\" name=\"iu_ratio\" required> <!-- Changed to text -->\n",
        "\n",
        "                <label for=\"curr_units_avg_credited\">Curricular Units Avg Credited</label>\n",
        "                <input type=\"text\" name=\"curr_units_avg_credited\" required> <!-- Changed to text -->\n",
        "\n",
        "                <label for=\"curr_avg_enrolled\">Curricular Avg Enrolled</label>\n",
        "                <input type=\"text\" name=\"curr_avg_enrolled\" required> <!-- Changed to text -->\n",
        "\n",
        "                <label for=\"curr_avg_eval\">Curricular Avg Evaluations</label>\n",
        "                <input type=\"text\" name=\"curr_avg_eval\" required> <!-- Changed to text -->\n",
        "\n",
        "                <label for=\"curr_avg_approved\">Curricular Avg Approved</label>\n",
        "                <input type=\"text\" name=\"curr_avg_approved\" required> <!-- Changed to text -->\n",
        "\n",
        "                <label for=\"curr_avg_grade\">Curricular Avg Grade</label>\n",
        "                <input type=\"text\" name=\"curr_avg_grade\" required> <!-- Changed to text -->\n",
        "\n",
        "                <label for=\"curr_avg_without_eval\">Curricular Avg Without Evaluations</label>\n",
        "                <input type=\"text\" name=\"curr_avg_without_eval\" required> <!-- Changed to text -->\n",
        "\n",
        "                <button type=\"submit\">Predict</button>\n",
        "            </form>\n",
        "\n",
        "            {% if prediction is not none %}\n",
        "                <div class=\"result\">Prediction: {{ prediction }}</div>\n",
        "            {% endif %}\n",
        "            {% if error_message %}\n",
        "                <p class=\"error-message\">{{ error_message }}</p>\n",
        "            {% endif %}\n",
        "        </div>\n",
        "    </body>\n",
        "    </html>\n",
        "    \"\"\"\n",
        "\n",
        "    # Write the content to the index.html file\n",
        "    with open(\"templates/index.html\", \"w\") as f:\n",
        "        f.write(html_content)"
      ]
    },
    {
      "cell_type": "markdown",
      "metadata": {
        "id": "utZYRchQbNTy"
      },
      "source": [
        "#**Interface**"
      ]
    },
    {
      "cell_type": "code",
      "execution_count": 21,
      "metadata": {
        "id": "80UT4rcBG8_1"
      },
      "outputs": [],
      "source": [
        "html()"
      ]
    },
    {
      "cell_type": "code",
      "execution_count": 26,
      "metadata": {
        "colab": {
          "base_uri": "https://localhost:8080/",
          "height": 34
        },
        "id": "io3KoXcvVDf0",
        "outputId": "644cedfc-19f2-4e77-8649-4f53dd8a828d"
      },
      "outputs": [
        {
          "output_type": "stream",
          "name": "stdout",
          "text": [
            "https://9pyad14kjb-496ff2e9c6d22116-5000-colab.googleusercontent.com/\n"
          ]
        }
      ],
      "source": [
        "from google.colab.output import eval_js\n",
        "print (eval_js(\"google.colab.kernel.proxyPort(5000)\"))"
      ]
    },
    {
      "cell_type": "code",
      "execution_count": 28,
      "metadata": {
        "colab": {
          "base_uri": "https://localhost:8080/"
        },
        "collapsed": true,
        "id": "z5fxDwkWZKpz",
        "outputId": "f7309f0a-405c-4a3f-8bc7-96257979cb1e"
      },
      "outputs": [
        {
          "output_type": "stream",
          "name": "stdout",
          "text": [
            " * Serving Flask app '__main__'\n",
            " * Debug mode: off\n"
          ]
        },
        {
          "output_type": "stream",
          "name": "stderr",
          "text": [
            "INFO:werkzeug:\u001b[31m\u001b[1mWARNING: This is a development server. Do not use it in a production deployment. Use a production WSGI server instead.\u001b[0m\n",
            " * Running on http://127.0.0.1:5000\n",
            "INFO:werkzeug:\u001b[33mPress CTRL+C to quit\u001b[0m\n",
            "Exception in thread Thread-42:\n",
            "Traceback (most recent call last):\n",
            "  File \"/usr/local/lib/python3.10/dist-packages/urllib3/connection.py\", line 199, in _new_conn\n",
            "    sock = connection.create_connection(\n",
            "  File \"/usr/local/lib/python3.10/dist-packages/urllib3/util/connection.py\", line 85, in create_connection\n",
            "    raise err\n",
            "  File \"/usr/local/lib/python3.10/dist-packages/urllib3/util/connection.py\", line 73, in create_connection\n",
            "    sock.connect(sa)\n",
            "ConnectionRefusedError: [Errno 111] Connection refused\n",
            "\n",
            "The above exception was the direct cause of the following exception:\n",
            "\n",
            "Traceback (most recent call last):\n",
            "  File \"/usr/local/lib/python3.10/dist-packages/urllib3/connectionpool.py\", line 789, in urlopen\n",
            "    response = self._make_request(\n",
            "  File \"/usr/local/lib/python3.10/dist-packages/urllib3/connectionpool.py\", line 495, in _make_request\n",
            "    conn.request(\n",
            "  File \"/usr/local/lib/python3.10/dist-packages/urllib3/connection.py\", line 441, in request\n",
            "    self.endheaders()\n",
            "  File \"/usr/lib/python3.10/http/client.py\", line 1278, in endheaders\n",
            "    self._send_output(message_body, encode_chunked=encode_chunked)\n",
            "  File \"/usr/lib/python3.10/http/client.py\", line 1038, in _send_output\n",
            "    self.send(msg)\n",
            "  File \"/usr/lib/python3.10/http/client.py\", line 976, in send\n",
            "    self.connect()\n",
            "  File \"/usr/local/lib/python3.10/dist-packages/urllib3/connection.py\", line 279, in connect\n",
            "    self.sock = self._new_conn()\n",
            "  File \"/usr/local/lib/python3.10/dist-packages/urllib3/connection.py\", line 214, in _new_conn\n",
            "    raise NewConnectionError(\n",
            "urllib3.exceptions.NewConnectionError: <urllib3.connection.HTTPConnection object at 0x7c45c56fef80>: Failed to establish a new connection: [Errno 111] Connection refused\n",
            "\n",
            "The above exception was the direct cause of the following exception:\n",
            "\n",
            "Traceback (most recent call last):\n",
            "  File \"/usr/local/lib/python3.10/dist-packages/requests/adapters.py\", line 667, in send\n",
            "    resp = conn.urlopen(\n",
            "  File \"/usr/local/lib/python3.10/dist-packages/urllib3/connectionpool.py\", line 843, in urlopen\n",
            "    retries = retries.increment(\n",
            "  File \"/usr/local/lib/python3.10/dist-packages/urllib3/util/retry.py\", line 519, in increment\n",
            "    raise MaxRetryError(_pool, url, reason) from reason  # type: ignore[arg-type]\n",
            "urllib3.exceptions.MaxRetryError: HTTPConnectionPool(host='localhost', port=4040): Max retries exceeded with url: /api/tunnels (Caused by NewConnectionError('<urllib3.connection.HTTPConnection object at 0x7c45c56fef80>: Failed to establish a new connection: [Errno 111] Connection refused'))\n",
            "\n",
            "During handling of the above exception, another exception occurred:\n",
            "\n",
            "Traceback (most recent call last):\n",
            "  File \"/usr/lib/python3.10/threading.py\", line 1016, in _bootstrap_inner\n",
            "    self.run()\n",
            "  File \"/usr/lib/python3.10/threading.py\", line 1378, in run\n",
            "    self.function(*self.args, **self.kwargs)\n",
            "  File \"/usr/local/lib/python3.10/dist-packages/flask_ngrok.py\", line 70, in start_ngrok\n",
            "    ngrok_address = _run_ngrok()\n",
            "  File \"/usr/local/lib/python3.10/dist-packages/flask_ngrok.py\", line 35, in _run_ngrok\n",
            "    tunnel_url = requests.get(localhost_url).text  # Get the tunnel information\n",
            "  File \"/usr/local/lib/python3.10/dist-packages/requests/api.py\", line 73, in get\n",
            "    return request(\"get\", url, params=params, **kwargs)\n",
            "  File \"/usr/local/lib/python3.10/dist-packages/requests/api.py\", line 59, in request\n",
            "    return session.request(method=method, url=url, **kwargs)\n",
            "  File \"/usr/local/lib/python3.10/dist-packages/requests/sessions.py\", line 589, in request\n",
            "    resp = self.send(prep, **send_kwargs)\n",
            "  File \"/usr/local/lib/python3.10/dist-packages/requests/sessions.py\", line 703, in send\n",
            "    r = adapter.send(request, **kwargs)\n",
            "  File \"/usr/local/lib/python3.10/dist-packages/requests/adapters.py\", line 700, in send\n",
            "    raise ConnectionError(e, request=request)\n",
            "requests.exceptions.ConnectionError: HTTPConnectionPool(host='localhost', port=4040): Max retries exceeded with url: /api/tunnels (Caused by NewConnectionError('<urllib3.connection.HTTPConnection object at 0x7c45c56fef80>: Failed to establish a new connection: [Errno 111] Connection refused'))\n",
            "INFO:werkzeug:127.0.0.1 - - [12/Oct/2024 11:44:50] \"GET /?authuser=0 HTTP/1.1\" 200 -\n",
            "INFO:werkzeug:127.0.0.1 - - [12/Oct/2024 11:44:51] \"\u001b[33mGET /favicon.ico?authuser=0 HTTP/1.1\u001b[0m\" 404 -\n",
            "/usr/local/lib/python3.10/dist-packages/sklearn/base.py:493: UserWarning: X does not have valid feature names, but RandomForestClassifier was fitted with feature names\n",
            "  warnings.warn(\n",
            "INFO:werkzeug:127.0.0.1 - - [12/Oct/2024 11:44:54] \"POST /?authuser=0 HTTP/1.1\" 200 -\n",
            "INFO:werkzeug:127.0.0.1 - - [12/Oct/2024 11:44:54] \"\u001b[33mGET /favicon.ico?authuser=0 HTTP/1.1\u001b[0m\" 404 -\n"
          ]
        }
      ],
      "source": [
        "from flask import Flask, request, render_template\n",
        "from flask_ngrok import run_with_ngrok\n",
        "import joblib\n",
        "import numpy as np\n",
        "\n",
        "app = Flask(__name__)\n",
        "run_with_ngrok(app)\n",
        "\n",
        "# Load your trained model\n",
        "model = joblib.load('your_model.pkl')\n",
        "\n",
        "@app.route(\"/\", methods=['GET', 'POST'])\n",
        "def home():\n",
        "    prediction = None\n",
        "    error_message = None\n",
        "    if request.method == 'POST':\n",
        "        try:\n",
        "            # Extract the features from the form, converting all to float\n",
        "            features = [\n",
        "                float(request.form['marital_status']),\n",
        "                float(request.form['application_mode']),\n",
        "                float(request.form['application_order']),\n",
        "                float(request.form['course']),\n",
        "                float(request.form['attendance']),\n",
        "                float(request.form['previous_qualification']),\n",
        "                float(request.form['mother_qualification']),\n",
        "                float(request.form['father_qualification']),\n",
        "                float(request.form['mother_occupation']),\n",
        "                float(request.form['father_occupation']),\n",
        "                float(request.form['displaced']),\n",
        "                float(request.form['debtor']),\n",
        "                float(request.form['tuition_fees']),\n",
        "                float(request.form['gender']),\n",
        "                float(request.form['scholarship_holder']),\n",
        "                float(request.form['age_enrollment']),\n",
        "                float(request.form['gdp']),\n",
        "                float(request.form['iu_ratio']),\n",
        "                float(request.form['curr_units_avg_credited']),\n",
        "                float(request.form['curr_avg_enrolled']),\n",
        "                float(request.form['curr_avg_eval']),\n",
        "                float(request.form['curr_avg_approved']),\n",
        "                float(request.form['curr_avg_grade']),\n",
        "                float(request.form['curr_avg_without_eval']),\n",
        "            ]\n",
        "\n",
        "            # Convert features to a suitable input shape for the model\n",
        "            features = np.array(features).reshape(1, -1)\n",
        "\n",
        "            # Make a prediction\n",
        "            prediction = model.predict(features)[0]\n",
        "        except Exception as e:\n",
        "            error_message = str(e)\n",
        "            return render_template('index.html', prediction=prediction, error_message=error_message)\n",
        "\n",
        "    return render_template('index.html', prediction=prediction, error_message=error_message)\n",
        "\n",
        "if __name__ == \"__main__\":\n",
        "    app.run()\n"
      ]
    },
    {
      "cell_type": "code",
      "source": [],
      "metadata": {
        "id": "-zXvc6uyDoan"
      },
      "execution_count": null,
      "outputs": []
    }
  ],
  "metadata": {
    "accelerator": "GPU",
    "colab": {
      "collapsed_sections": [
        "0feXE1JCHJqX",
        "egz84rxRE8YX",
        "hwIkgPQKOkch",
        "uaws-KoyGpv-",
        "atWsMoZiGv6l",
        "4jegxYXdGZ69",
        "utZYRchQbNTy",
        "VJlOfhxDHW6n"
      ],
      "gpuType": "T4",
      "provenance": [],
      "include_colab_link": true
    },
    "kernelspec": {
      "display_name": "Python 3",
      "name": "python3"
    },
    "language_info": {
      "name": "python"
    }
  },
  "nbformat": 4,
  "nbformat_minor": 0
}